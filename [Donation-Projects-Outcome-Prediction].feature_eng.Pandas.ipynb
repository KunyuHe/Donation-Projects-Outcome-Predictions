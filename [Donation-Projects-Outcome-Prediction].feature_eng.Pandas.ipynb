{
    "nbformat_minor": 1, 
    "cells": [
        {
            "source": "# Predicting Donation Projects Outcome Based on DonorsChoose.org Data", 
            "cell_type": "markdown", 
            "metadata": {
                "collapsed": true
            }
        }, 
        {
            "source": "## Feature Engineering Notebook", 
            "cell_type": "markdown", 
            "metadata": {}
        }, 
        {
            "source": "#### *Author: Kunyu He*\n#### *University of Chicago CAPP'20*", 
            "cell_type": "markdown", 
            "metadata": {}
        }, 
        {
            "source": "### Executive Summary", 
            "cell_type": "markdown", 
            "metadata": {}
        }, 
        {
            "source": "In this notebook, I'll read preprocessed training and testing data, which comes as data outputs of the [ETL notebook](https://dataplatform.cloud.ibm.com/analytics/notebooks/v2/5a618e1d-b09e-4956-b0f0-ced1bbeae5a3/view?access_token=a7f6bc86b447a978fbf3c54457916f471e1fa4c4eccc9542d20086a6d63f6cb7) and stored on [IBM Cloud Object Storage](https://www.ibm.com/cloud/object-storage?S_PKG=AW&cm_mmc=Search_Google-_-Cloud_Cloud+Platform-_-WW_NA-_-+ibm++object++storage_Broad_&cm_mmca1=000016GC&cm_mmca2=10007090&cm_mmca7=9060146&cm_mmca8=aud-311016886972:kwd-346458796492&cm_mmca9=_k_CjwKCAiAyfvhBRBsEiwAe2t_i-XCqy6aVw7VL5rPgPbazlACBDB8tL5qFioP_k0oLEF8dxisH8cTlBoClHoQAvD_BwE_k_&cm_mmca10=317209285867&cm_mmca11=b&mkwid=_k_CjwKCAiAyfvhBRBsEiwAe2t_i-XCqy6aVw7VL5rPgPbazlACBDB8tL5qFioP_k0oLEF8dxisH8cTlBoClHoQAvD_BwE_k_|1445|530530&cvosrc=ppc.google.%2Bibm%20%2Bobject%20%2Bstorage&cvo_campaign=000016GC&cvo_crid=317209285867&Matchtype=b&gclid=CjwKCAiAyfvhBRBsEiwAe2t_i-XCqy6aVw7VL5rPgPbazlACBDB8tL5qFioP_k0oLEF8dxisH8cTlBoClHoQAvD_BwE) in `.csv` format, and perform feature engineering based on findings in the [EDA notebook](https://dataplatform.cloud.ibm.com/analytics/notebooks/v2/ea878b70-71e0-406e-a118-7c8e898db8fb/view?access_token=031878c433b299b1fd3fbf7c0fb07b2ebc776d4b30ced9b8fe37e18a13890cec). The process includes:\n\n* Create features including month, year of project posting and word counts for title, need statement and short description of the project\n* Apply one-hot encoding on multinomial variables with multiple categories\n* Drop our target, essay data and variables with too many categories from the features dataframe\n* Use standard scaler to standardize the features dataframe and transform it into a Numpy feature matrix\n* Extract the target variable *(`fully_funded`)*\n\nOutput data is stored in `.csv` fomat.", 
            "cell_type": "markdown", 
            "metadata": {}
        }, 
        {
            "source": "### Load Data", 
            "cell_type": "markdown", 
            "metadata": {}
        }, 
        {
            "source": "Use the chunks below to list the data assets in my IBM Cloud Object Storage linked to this project. As it includes my credentials, the code is hidden from unauthorized viewers.", 
            "cell_type": "markdown", 
            "metadata": {}
        }, 
        {
            "execution_count": 1, 
            "cell_type": "code", 
            "metadata": {}, 
            "outputs": [], 
            "source": "import pandas as pd\nimport numpy as np\n\nfrom sklearn import preprocessing"
        }, 
        {
            "execution_count": 2, 
            "cell_type": "code", 
            "metadata": {}, 
            "outputs": [], 
            "source": "# The code was removed by Watson Studio for sharing."
        }, 
        {
            "execution_count": 3, 
            "cell_type": "code", 
            "metadata": {}, 
            "outputs": [
                {
                    "execution_count": 3, 
                    "metadata": {}, 
                    "data": {
                        "text/plain": "[{'asset_id': '7a2d8b2c-65c5-4258-8605-b95653bd30c5',\n  'name': 'Donation-Projects-Outcome-Prediction.data.test.csv'},\n {'asset_id': 'f5450447-79fb-4b53-b646-5fbb9a220a8f',\n  'name': 'Donation-Projects-Outcome-Prediction.data.train.csv'},\n {'asset_id': 'b6920713-693a-454e-855f-a24c95efd8ce',\n  'name': 'Donation-Projects-Outcome-Prediction.data.projects.csv'},\n {'asset_id': '9b1c8961-1564-41a7-8402-89fded8d7e21',\n  'name': 'Donation-Projects-Outcome-Prediction.data.outcomes.csv'},\n {'asset_id': '42bb6e53-4a3c-48f5-bcfb-5a7ab6b4461c',\n  'name': 'Donation-Projects-Outcome-Prediction.data.resources.csv'},\n {'asset_id': '260878e4-a8c3-4c74-8070-48813214e8b2',\n  'name': 'Donation-Projects-Outcome-Prediction.data.essays.csv'}]"
                    }, 
                    "output_type": "execute_result"
                }
            ], 
            "source": "project.get_files()"
        }, 
        {
            "source": "Load data into the environment.", 
            "cell_type": "markdown", 
            "metadata": {}
        }, 
        {
            "execution_count": 4, 
            "cell_type": "code", 
            "metadata": {
                "scrolled": true
            }, 
            "outputs": [], 
            "source": "train = pd.read_csv(project.get_file('Donation-Projects-Outcome-Prediction.data.train.csv'))\ntest = pd.read_csv(project.get_file('Donation-Projects-Outcome-Prediction.data.test.csv'))"
        }, 
        {
            "source": "### Feature Engineering", 
            "cell_type": "markdown", 
            "metadata": {}
        }, 
        {
            "source": "Define a preprocess function for feature engineering.", 
            "cell_type": "markdown", 
            "metadata": {}
        }, 
        {
            "execution_count": 6, 
            "cell_type": "code", 
            "metadata": {}, 
            "outputs": [], 
            "source": "def preprocess(df):\n    # create new features\n    df['month_of_year'] = pd.Categorical(df.date_posted.dt.month)\n    df['year'] = pd.Categorical(df.date_posted.dt.year)\n    df['need_statement_length'] = df.need_statement.str.len()\n    df['short_description_length'] = df.short_description.str.len()\n    df['title_length'] = df.title.str.len()\n\n    # one-hot encoding\n    multi_level_cat = ['teacher_prefix', 'primary_focus_subject', 'resource_type', 'poverty_level', 'month_of_year',\n                       'year', 'grade_level']\n    dummies = pd.get_dummies(df[multi_level_cat])\n    \n    # drop \n    to_drop = ['school_state', 'date_posted', 'fully_funded', 'title', 'short_description', 'need_statement', 'essay',\n               'primary_focus_area'] + multi_level_cat\n    labels = df.fully_funded.values\n    df.drop(to_drop, axis=1, inplace=True)\n    \n    features = pd.concat([df, dummies], axis=1)\n\n    return preprocessing.StandardScaler().fit(features).transform(features), np.array(labels), features"
        }, 
        {
            "source": "Perform feature engineering. Notice that `X_train`, `y_train`, `X_test`, `y_test` are Numpy ndarrays, `train_features` and `test_features` are Pandas DataFrame.", 
            "cell_type": "markdown", 
            "metadata": {}
        }, 
        {
            "execution_count": 7, 
            "cell_type": "code", 
            "metadata": {
                "scrolled": true
            }, 
            "outputs": [], 
            "source": "X_train, y_train, train_features = preprocess(train)\nX_test, y_test, test_features = preprocess(test)"
        }, 
        {
            "source": "### Data Outputs Storage", 
            "cell_type": "markdown", 
            "metadata": {}
        }, 
        {
            "source": "Now save all data sets as `.csv` files and upload them back to my IBM Cloud Object Storage bucket.", 
            "cell_type": "markdown", 
            "metadata": {}
        }, 
        {
            "execution_count": 13, 
            "cell_type": "code", 
            "metadata": {}, 
            "outputs": [
                {
                    "execution_count": 13, 
                    "metadata": {}, 
                    "data": {
                        "text/plain": "{'asset_id': '945f71e4-c723-4cbd-a71c-381eaadb0ba1',\n 'bucket_name': 'donationprojectsoutcomeprediction-donotdelete-pr-felyzh04iugf9l',\n 'file_name': 'Donation-Projects-Outcome-Prediction.data.X_train.csv',\n 'message': 'File Donation-Projects-Outcome-Prediction.data.X_train.csv has been written successfully to the associated OS'}"
                    }, 
                    "output_type": "execute_result"
                }
            ], 
            "source": "project.save_data(data=pd.DataFrame(X_train).to_csv(index=False),\n                  file_name='Donation-Projects-Outcome-Prediction.data.X_train.csv', overwrite=True)"
        }, 
        {
            "execution_count": 14, 
            "cell_type": "code", 
            "metadata": {}, 
            "outputs": [
                {
                    "execution_count": 14, 
                    "metadata": {}, 
                    "data": {
                        "text/plain": "{'asset_id': '977cdb81-5861-4ef9-a937-190339b4f8fb',\n 'bucket_name': 'donationprojectsoutcomeprediction-donotdelete-pr-felyzh04iugf9l',\n 'file_name': 'Donation-Projects-Outcome-Prediction.data.y_train.csv',\n 'message': 'File Donation-Projects-Outcome-Prediction.data.y_train.csv has been written successfully to the associated OS'}"
                    }, 
                    "output_type": "execute_result"
                }
            ], 
            "source": "project.save_data(data=pd.DataFrame(y_train).to_csv(index=False),\n                  file_name='Donation-Projects-Outcome-Prediction.data.y_train.csv', overwrite=True)"
        }, 
        {
            "execution_count": 16, 
            "cell_type": "code", 
            "metadata": {}, 
            "outputs": [
                {
                    "execution_count": 16, 
                    "metadata": {}, 
                    "data": {
                        "text/plain": "{'asset_id': '4cd74b0a-1df2-4f6a-914c-6f095c4a16a1',\n 'bucket_name': 'donationprojectsoutcomeprediction-donotdelete-pr-felyzh04iugf9l',\n 'file_name': 'Donation-Projects-Outcome-Prediction.data.X_test.csv',\n 'message': 'File Donation-Projects-Outcome-Prediction.data.X_test.csv has been written successfully to the associated OS'}"
                    }, 
                    "output_type": "execute_result"
                }
            ], 
            "source": "project.save_data(data=pd.DataFrame(X_test).to_csv(index=False),\n                  file_name='Donation-Projects-Outcome-Prediction.data.X_test.csv', overwrite=True)"
        }, 
        {
            "execution_count": 15, 
            "cell_type": "code", 
            "metadata": {}, 
            "outputs": [
                {
                    "execution_count": 15, 
                    "metadata": {}, 
                    "data": {
                        "text/plain": "{'asset_id': '71dda0d1-cf32-4124-8170-64c425d52820',\n 'bucket_name': 'donationprojectsoutcomeprediction-donotdelete-pr-felyzh04iugf9l',\n 'file_name': 'Donation-Projects-Outcome-Prediction.data.y_test.csv',\n 'message': 'File Donation-Projects-Outcome-Prediction.data.y_test.csv has been written successfully to the associated OS'}"
                    }, 
                    "output_type": "execute_result"
                }
            ], 
            "source": "project.save_data(data=pd.DataFrame(y_test).to_csv(index=False),\n                  file_name='Donation-Projects-Outcome-Prediction.data.y_test.csv', overwrite=True)"
        }, 
        {
            "execution_count": 18, 
            "cell_type": "code", 
            "metadata": {}, 
            "outputs": [
                {
                    "execution_count": 18, 
                    "metadata": {}, 
                    "data": {
                        "text/plain": "{'asset_id': '4aaa220a-3d1e-48fe-a563-0410d08290f2',\n 'bucket_name': 'donationprojectsoutcomeprediction-donotdelete-pr-felyzh04iugf9l',\n 'file_name': 'Donation-Projects-Outcome-Prediction.data.train_features.csv',\n 'message': 'File Donation-Projects-Outcome-Prediction.data.train_features.csv has been written successfully to the associated OS'}"
                    }, 
                    "output_type": "execute_result"
                }
            ], 
            "source": "project.save_data(data=train_features.to_csv(index=False),\n                  file_name='Donation-Projects-Outcome-Prediction.data.train_features.csv', overwrite=True)"
        }, 
        {
            "source": "Check whether the output data files are successfully uploaded.", 
            "cell_type": "markdown", 
            "metadata": {}
        }, 
        {
            "execution_count": 19, 
            "cell_type": "code", 
            "metadata": {}, 
            "outputs": [
                {
                    "execution_count": 19, 
                    "metadata": {}, 
                    "data": {
                        "text/plain": "[{'asset_id': '945f71e4-c723-4cbd-a71c-381eaadb0ba1',\n  'name': 'Donation-Projects-Outcome-Prediction.data.X_train.csv'},\n {'asset_id': '7a2d8b2c-65c5-4258-8605-b95653bd30c5',\n  'name': 'Donation-Projects-Outcome-Prediction.data.test.csv'},\n {'asset_id': '71dda0d1-cf32-4124-8170-64c425d52820',\n  'name': 'Donation-Projects-Outcome-Prediction.data.y_test.csv'},\n {'asset_id': '4aaa220a-3d1e-48fe-a563-0410d08290f2',\n  'name': 'Donation-Projects-Outcome-Prediction.data.train_features.csv'},\n {'asset_id': 'f5450447-79fb-4b53-b646-5fbb9a220a8f',\n  'name': 'Donation-Projects-Outcome-Prediction.data.train.csv'},\n {'asset_id': '977cdb81-5861-4ef9-a937-190339b4f8fb',\n  'name': 'Donation-Projects-Outcome-Prediction.data.y_train.csv'},\n {'asset_id': '4cd74b0a-1df2-4f6a-914c-6f095c4a16a1',\n  'name': 'Donation-Projects-Outcome-Prediction.data.X_test.csv'},\n {'asset_id': 'b6920713-693a-454e-855f-a24c95efd8ce',\n  'name': 'Donation-Projects-Outcome-Prediction.data.projects.csv'},\n {'asset_id': '9b1c8961-1564-41a7-8402-89fded8d7e21',\n  'name': 'Donation-Projects-Outcome-Prediction.data.outcomes.csv'},\n {'asset_id': '42bb6e53-4a3c-48f5-bcfb-5a7ab6b4461c',\n  'name': 'Donation-Projects-Outcome-Prediction.data.resources.csv'},\n {'asset_id': '260878e4-a8c3-4c74-8070-48813214e8b2',\n  'name': 'Donation-Projects-Outcome-Prediction.data.essays.csv'}]"
                    }, 
                    "output_type": "execute_result"
                }
            ], 
            "source": "project.get_files()"
        }, 
        {
            "source": "Now that our data is stored properly, the feature engineering for this project is done.\n\n**Cheers!**", 
            "cell_type": "markdown", 
            "metadata": {}
        }, 
        {
            "execution_count": null, 
            "cell_type": "code", 
            "metadata": {}, 
            "outputs": [], 
            "source": ""
        }
    ], 
    "metadata": {
        "kernelspec": {
            "display_name": "Python 3.5", 
            "name": "python3", 
            "language": "python"
        }, 
        "language_info": {
            "mimetype": "text/x-python", 
            "nbconvert_exporter": "python", 
            "version": "3.5.5", 
            "name": "python", 
            "file_extension": ".py", 
            "pygments_lexer": "ipython3", 
            "codemirror_mode": {
                "version": 3, 
                "name": "ipython"
            }
        }
    }, 
    "nbformat": 4
}